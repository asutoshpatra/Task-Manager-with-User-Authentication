{
 "cells": [
  {
   "cell_type": "code",
   "execution_count": 8,
   "id": "44c31edd-c679-4a99-b6f9-b8688fe3510c",
   "metadata": {},
   "outputs": [
    {
     "name": "stdout",
     "output_type": "stream",
     "text": [
      "\n",
      "--- Welcome to Task Manager ---\n",
      "1. Register\n",
      "2. Login\n",
      "3. Exit\n"
     ]
    },
    {
     "name": "stdin",
     "output_type": "stream",
     "text": [
      "Enter your choice:  2\n",
      "Enter username:  asutosh\n",
      "Enter password:  asutosh\n"
     ]
    },
    {
     "name": "stdout",
     "output_type": "stream",
     "text": [
      "Login successful!\n",
      "\n",
      "Hi asutosh !\n",
      "--- Task Manager ---\n",
      "1. Add Task\n",
      "2. View Tasks\n",
      "3. Mark Task as Completed\n",
      "4. Delete Task\n",
      "5. Logout\n"
     ]
    },
    {
     "name": "stdin",
     "output_type": "stream",
     "text": [
      "Enter your choice:  2\n"
     ]
    },
    {
     "name": "stdout",
     "output_type": "stream",
     "text": [
      "\n",
      "--- Your Tasks ---\n",
      "+-----------+---------------+-----------+\n",
      "|   Task ID | Description   | Status    |\n",
      "+===========+===============+===========+\n",
      "|         1 | food          | Completed |\n",
      "+-----------+---------------+-----------+\n",
      "|         2 | good          | Pending   |\n",
      "+-----------+---------------+-----------+\n",
      "|         3 | asda          | Pending   |\n",
      "+-----------+---------------+-----------+\n",
      "\n",
      "Hi asutosh !\n",
      "--- Task Manager ---\n",
      "1. Add Task\n",
      "2. View Tasks\n",
      "3. Mark Task as Completed\n",
      "4. Delete Task\n",
      "5. Logout\n"
     ]
    },
    {
     "name": "stdin",
     "output_type": "stream",
     "text": [
      "Enter your choice:  4\n",
      "Enter task ID to delete:  1\n"
     ]
    },
    {
     "name": "stdout",
     "output_type": "stream",
     "text": [
      "Task 1 deleted.\n",
      "\n",
      "Hi asutosh !\n",
      "--- Task Manager ---\n",
      "1. Add Task\n",
      "2. View Tasks\n",
      "3. Mark Task as Completed\n",
      "4. Delete Task\n",
      "5. Logout\n"
     ]
    },
    {
     "name": "stdin",
     "output_type": "stream",
     "text": [
      "Enter your choice:  2\n"
     ]
    },
    {
     "name": "stdout",
     "output_type": "stream",
     "text": [
      "\n",
      "--- Your Tasks ---\n",
      "+-----------+---------------+----------+\n",
      "|   Task ID | Description   | Status   |\n",
      "+===========+===============+==========+\n",
      "|         2 | good          | Pending  |\n",
      "+-----------+---------------+----------+\n",
      "|         3 | asda          | Pending  |\n",
      "+-----------+---------------+----------+\n",
      "\n",
      "Hi asutosh !\n",
      "--- Task Manager ---\n",
      "1. Add Task\n",
      "2. View Tasks\n",
      "3. Mark Task as Completed\n",
      "4. Delete Task\n",
      "5. Logout\n"
     ]
    },
    {
     "name": "stdin",
     "output_type": "stream",
     "text": [
      "Enter your choice:  4\n",
      "Enter task ID to delete:  1\n"
     ]
    },
    {
     "name": "stdout",
     "output_type": "stream",
     "text": [
      "Task ID not found.\n",
      "\n",
      "Hi asutosh !\n",
      "--- Task Manager ---\n",
      "1. Add Task\n",
      "2. View Tasks\n",
      "3. Mark Task as Completed\n",
      "4. Delete Task\n",
      "5. Logout\n"
     ]
    },
    {
     "name": "stdin",
     "output_type": "stream",
     "text": [
      "Enter your choice:  5\n"
     ]
    },
    {
     "name": "stdout",
     "output_type": "stream",
     "text": [
      "Logging out...\n",
      "\n",
      "--- Welcome to Task Manager ---\n",
      "1. Register\n",
      "2. Login\n",
      "3. Exit\n"
     ]
    },
    {
     "name": "stdin",
     "output_type": "stream",
     "text": [
      "Enter your choice:  3\n"
     ]
    },
    {
     "name": "stdout",
     "output_type": "stream",
     "text": [
      "Exiting...\n"
     ]
    }
   ],
   "source": [
    "import hashlib\n",
    "import os\n",
    "import json\n",
    "import random\n",
    "import string\n",
    "from tabulate import tabulate\n",
    "\n",
    "# Files to store user login details and tasks\n",
    "CREDENTIALS_FILE = \"credentials.txt\"\n",
    "TASKS_FILE = \"tasks.json\"\n",
    "\n",
    "# Hashing password\n",
    "def hash_password(password):\n",
    "    return hashlib.sha256(password.encode()).hexdigest()\n",
    "\n",
    "# User Registration\n",
    "def register_user(username, password):\n",
    "    if os.path.exists(CREDENTIALS_FILE):\n",
    "        with open(CREDENTIALS_FILE, 'r') as file:\n",
    "            credentials = json.load(file)\n",
    "    else:\n",
    "        credentials = {}\n",
    "\n",
    "    if username in credentials:\n",
    "        print(\"Username already exists. Try a different one.\")\n",
    "        return False\n",
    "\n",
    "    credentials[username] = hash_password(password)\n",
    "\n",
    "    with open(CREDENTIALS_FILE, 'w') as file:\n",
    "        json.dump(credentials, file)\n",
    "    \n",
    "    print(\"Registration successful!\")\n",
    "    return True\n",
    "\n",
    "# User login\n",
    "def login_user(username, password):\n",
    "    if not os.path.exists(CREDENTIALS_FILE):\n",
    "        print(\"No users registered. Please register first.\")\n",
    "        return False\n",
    "\n",
    "    with open(CREDENTIALS_FILE, 'r') as file:\n",
    "        credentials = json.load(file)\n",
    "\n",
    "    if username in credentials and credentials[username] == hash_password(password):\n",
    "        print(\"Login successful!\")\n",
    "        return True\n",
    "    else:\n",
    "        print(\"Invalid username or password.\")\n",
    "        return False\n",
    "\n",
    "# Get Tasks\n",
    "def load_tasks(username):\n",
    "    if os.path.exists(TASKS_FILE):\n",
    "        with open(TASKS_FILE, 'r') as file:\n",
    "            tasks = json.load(file)\n",
    "    else:\n",
    "        tasks = {}\n",
    "\n",
    "    return tasks.get(username, {})\n",
    "\n",
    "# Save Task \n",
    "def save_tasks(username, user_tasks):\n",
    "    if os.path.exists(TASKS_FILE):\n",
    "        with open(TASKS_FILE, 'r') as file:\n",
    "            tasks = json.load(file)\n",
    "    else:\n",
    "        tasks = {}\n",
    "\n",
    "    tasks[username] = user_tasks\n",
    "\n",
    "    with open(TASKS_FILE, 'w') as file:\n",
    "        json.dump(tasks, file)\n",
    "# Generate Random Id for task\n",
    "def generate_task_id(length=4):\n",
    "    # Generates a random ID with the specified length\n",
    "    return ''.join(random.choices(string.ascii_uppercase + string.digits, k=length))\n",
    "\n",
    "# Add Task\n",
    "def add_task(username, description):\n",
    "    tasks = load_tasks(username)\n",
    "    task_id = generate_task_id()\n",
    "    \n",
    "    # Ensure the task_id is unique for this user\n",
    "    while task_id in tasks:\n",
    "        task_id = generate_task_id()\n",
    "    \n",
    "    tasks[task_id] = {\"description\": description, \"status\": \"Pending\"}\n",
    "    save_tasks(username, tasks)\n",
    "    print(f\"Task '{description}' added successfully with ID: {task_id}.\")\n",
    "\n",
    "# View Task\n",
    "def view_tasks(username):\n",
    "    tasks = load_tasks(username)\n",
    "    if tasks:\n",
    "        # Prepare data for tabulation\n",
    "        table = [[task_id, details[\"description\"], details[\"status\"]] for task_id, details in tasks.items()]\n",
    "        headers = [\"Task ID\", \"Description\", \"Status\"]\n",
    "        print(\"\\n--- Your Tasks ---\")\n",
    "        print(tabulate(table, headers=headers, tablefmt=\"grid\"))\n",
    "    else:\n",
    "        print(\"No tasks found.\")\n",
    "\n",
    "# Task status update\n",
    "def mark_task_completed(username, task_id):\n",
    "    tasks = load_tasks(username)\n",
    "    if task_id in tasks:\n",
    "        tasks[task_id][\"status\"] = \"Completed\"\n",
    "        save_tasks(username, tasks)\n",
    "        print(f\"Task {task_id} marked as completed.\")\n",
    "    else:\n",
    "        print(\"Task ID not found.\")\n",
    "\n",
    "# Delete task\n",
    "def delete_task(username, task_id):\n",
    "    tasks = load_tasks(username)\n",
    "    if task_id in tasks:\n",
    "        del tasks[task_id]\n",
    "        save_tasks(username, tasks)\n",
    "        print(f\"Task {task_id} deleted.\")\n",
    "    else:\n",
    "        print(\"Task ID not found.\")\n",
    "\n",
    "# User Menu        \n",
    "def menu(username):\n",
    "    while True:\n",
    "        print(\"\\nHi\",username,\"!\")\n",
    "        print(\"--- Task Manager ---\")\n",
    "        print(\"1. Add Task\")\n",
    "        print(\"2. View Tasks\")\n",
    "        print(\"3. Mark Task as Completed\")\n",
    "        print(\"4. Delete Task\")\n",
    "        print(\"5. Logout\")\n",
    "        \n",
    "        choice = input(\"Enter your choice: \")\n",
    "        \n",
    "        if choice == '1':\n",
    "            description = input(\"Enter task description: \")\n",
    "            add_task(username, description)\n",
    "        elif choice == '2':\n",
    "            view_tasks(username)\n",
    "        elif choice == '3':\n",
    "            task_id = input(\"Enter task ID to mark as completed: \")\n",
    "            mark_task_completed(username, task_id)\n",
    "        elif choice == '4':\n",
    "            task_id = input(\"Enter task ID to delete: \")\n",
    "            delete_task(username, task_id)\n",
    "        elif choice == '5':\n",
    "            print(\"Logging out...\")\n",
    "            break\n",
    "        else:\n",
    "            print(\"Invalid choice. Please try again.\")\n",
    "\n",
    "def main():\n",
    "    while True:\n",
    "        print(\"\\n--- Welcome to Task Manager ---\")\n",
    "        print(\"1. Register\")\n",
    "        print(\"2. Login\")\n",
    "        print(\"3. Exit\")\n",
    "        \n",
    "        choice = input(\"Enter your choice: \")\n",
    "        \n",
    "        if choice == '1':\n",
    "            username = input(\"Enter username: \")\n",
    "            password = input(\"Enter password: \")\n",
    "            register_user(username, password)\n",
    "        elif choice == '2':\n",
    "            username = input(\"Enter username: \")\n",
    "            password = input(\"Enter password: \")\n",
    "            if login_user(username, password):\n",
    "                menu(username)\n",
    "        elif choice == '3':\n",
    "            print(\"Exiting...\")\n",
    "            break\n",
    "        else:\n",
    "            print(\"Invalid choice. Please try again.\")\n",
    "\n",
    "if __name__ == \"__main__\":\n",
    "    main()\n"
   ]
  },
  {
   "cell_type": "code",
   "execution_count": null,
   "id": "658f30a2-91f5-4812-b14e-201a9f8116f9",
   "metadata": {},
   "outputs": [],
   "source": []
  }
 ],
 "metadata": {
  "kernelspec": {
   "display_name": "Python 3 (ipykernel)",
   "language": "python",
   "name": "python3"
  },
  "language_info": {
   "codemirror_mode": {
    "name": "ipython",
    "version": 3
   },
   "file_extension": ".py",
   "mimetype": "text/x-python",
   "name": "python",
   "nbconvert_exporter": "python",
   "pygments_lexer": "ipython3",
   "version": "3.12.4"
  }
 },
 "nbformat": 4,
 "nbformat_minor": 5
}
